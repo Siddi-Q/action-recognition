{
 "cells": [
  {
   "cell_type": "code",
   "execution_count": 31,
   "metadata": {},
   "outputs": [],
   "source": [
    "import tensorflow as tf\n",
    "import pathlib\n",
    "import data\n",
    "import time"
   ]
  },
  {
   "cell_type": "code",
   "execution_count": 32,
   "metadata": {},
   "outputs": [],
   "source": [
    "def getImageDataGenerators(train_data_directory, validation_data_directory):\n",
    "    train_image_generator      = tf.keras.preprocessing.image.ImageDataGenerator(rescale = 1./255)\n",
    "    validation_image_generator = tf.keras.preprocessing.image.ImageDataGenerator(rescale = 1./255)\n",
    "    \n",
    "    train_data_gen = train_image_generator.flow_from_directory(directory     = str(train_data_directory),\n",
    "                                                               target_size   = (299, 299),\n",
    "                                                               interpolation = \"lanczos\")\n",
    "    \n",
    "    validation_data_gen = validation_image_generator.flow_from_directory(directory    = str(validation_data_directory),\n",
    "                                                                        target_size   = (299, 299),\n",
    "                                                                        interpolation = \"lanczos\")\n",
    "    return train_data_gen, validation_data_gen"
   ]
  },
  {
   "cell_type": "code",
   "execution_count": 33,
   "metadata": {},
   "outputs": [],
   "source": [
    "def getModel(numClasses):\n",
    "    base_model = tf.keras.applications.InceptionV3(input_shape = (299, 299, 3), \n",
    "                                                   include_top = False, \n",
    "                                                   weights     = 'imagenet')\n",
    "    base_model.trainable = False\n",
    "    global_average_layer = tf.keras.layers.GlobalAveragePooling2D()\n",
    "    prediction_layer = tf.keras.layers.Dense(numClasses, activation='softmax')\n",
    "    \n",
    "    model = tf.keras.Sequential([base_model, \n",
    "                                 global_average_layer, \n",
    "                                 prediction_layer])\n",
    "    \n",
    "    model.compile(optimizer = tf.keras.optimizers.Adam(lr=0.0001),\n",
    "                  loss      = tf.keras.losses.CategoricalCrossentropy(from_logits=True),\n",
    "                  metrics   = ['accuracy'])\n",
    "    return model"
   ]
  },
  {
   "cell_type": "code",
   "execution_count": 34,
   "metadata": {},
   "outputs": [],
   "source": [
    "def fineTuneModel(model):\n",
    "    base_model = model.layers[0]\n",
    "    base_model.trainable = True\n",
    "    \n",
    "    for layer in base_model.layers[:300]:\n",
    "        layer.trainable = False\n",
    "        \n",
    "    model.compile(optimizer = tf.keras.optimizers.Adam(lr=0.00001),\n",
    "                  loss      = tf.keras.losses.CategoricalCrossentropy(from_logits=True),\n",
    "                  metrics   = ['accuracy'])\n",
    "    return model"
   ]
  },
  {
   "cell_type": "code",
   "execution_count": 35,
   "metadata": {},
   "outputs": [],
   "source": [
    "def trainModel(model, initial_epoch, epochs, train_data_gen, validation_data_gen, callbacks):\n",
    "    history = model.fit(train_data_gen,\n",
    "                        initial_epoch   = initial_epoch, \n",
    "                        epochs          = epochs, \n",
    "                        validation_data = validation_data_gen,\n",
    "                        callbacks       = callbacks)\n",
    "    return model, history"
   ]
  },
  {
   "cell_type": "code",
   "execution_count": 39,
   "metadata": {},
   "outputs": [],
   "source": [
    "def main():\n",
    "    d = data.Data()\n",
    "    numClasses = d.numClasses\n",
    "    train_data_directory      = pathlib.Path(r\"D:\\ActionRecognition\\Train\")\n",
    "    validation_data_directory = pathlib.Path(r\"D:\\ActionRecognition\\Test\")\n",
    "    train_data_gen, validation_data_gen = getImageDataGenerators(train_data_directory, validation_data_directory)\n",
    "    \n",
    "    modelCheckpointDirectory = pathlib.Path(r\"D:\\ActionRecognition\\Callbacks\\CNN\\ModelCheckpoint\")\n",
    "    tensorboardDirectory = pathlib.Path(r\"D:\\ActionRecognition\\Callbacks\\CNN\\Tensorboard\")\n",
    "    \n",
    "    modelCheckpoint = tf.keras.callbacks.ModelCheckpoint(filepath = str(modelCheckpointDirectory/'CNN_{epoch:03d}_{val_loss:.2f}'),\n",
    "                                                         save_best_only = True)\n",
    "    tensorboard = tf.keras.callbacks.TensorBoard(log_dir = str(tensorboardDirectory/f'{int(time.time())}'))\n",
    "    \n",
    "    model = getModel(numClasses)\n",
    "    trained_model, history = trainModel(model, 0, 1, train_data_gen, validation_data_gen, [])\n",
    "    fine_tuned_model = fineTuneModel(trained_model)\n",
    "    trained_model, history_fine = trainModel(fine_tuned_model, 1, 2, train_data_gen, validation_data_gen, [modelCheckpoint, tensorboard])"
   ]
  },
  {
   "cell_type": "code",
   "execution_count": 40,
   "metadata": {},
   "outputs": [
    {
     "name": "stdout",
     "output_type": "stream",
     "text": [
      "Found 287 images belonging to 3 classes.\n",
      "Found 117 images belonging to 3 classes.\n",
      "WARNING:tensorflow:sample_weight modes were coerced from\n",
      "  ...\n",
      "    to  \n",
      "  ['...']\n",
      "WARNING:tensorflow:sample_weight modes were coerced from\n",
      "  ...\n",
      "    to  \n",
      "  ['...']\n",
      "Train for 9 steps, validate for 4 steps\n",
      "8/9 [=========================>....] - ETA: 8s - loss: 1.1029 - accuracy: 0.3647 WARNING:tensorflow:From C:\\Users\\saddi\\Anaconda3\\envs\\Action_Recognition\\lib\\site-packages\\tensorflow_core\\python\\ops\\resource_variable_ops.py:1786: calling BaseResourceVariable.__init__ (from tensorflow.python.ops.resource_variable_ops) with constraint is deprecated and will be removed in a future version.\n",
      "Instructions for updating:\n",
      "If using Keras pass *_constraint arguments to layers.\n",
      "INFO:tensorflow:Assets written to: D:\\ActionRecognition\\Callbacks\\CNN\\ModelCheckpoint\\CNN_001_1.12\\assets\n",
      "9/9 [==============================] - 198s 22s/step - loss: 1.0992 - accuracy: 0.3833 - val_loss: 1.1219 - val_accuracy: 0.2906\n"
     ]
    }
   ],
   "source": [
    "main()"
   ]
  },
  {
   "cell_type": "code",
   "execution_count": 8,
   "metadata": {},
   "outputs": [],
   "source": [
    "\n",
    "# import time module and use it in pathname!!!!\n",
    "modelCheckpointDirectory = pathlib.Path(r\"D:\\ActionRecognition\\Callbacks\\CNN\\ModelCheckpoint\")\n",
    "modelCheckpoint = tf.keras.callbacks.ModelCheckpoint(filepath = modelCheckpointDirectory/'CNN_{epoch:03d}_{val_loss:.2f}_{int(time.time())}',\n",
    "                                                     save_best_only = True)\n",
    "\n",
    "tensorboardDirectory = pathlib.Path(r\"D:\\ActionRecognition\\Callbacks\\CNN\\Tensorboard\")\n",
    "tensorboard = tf.keras.callbacks.TensorBoard(log_dir = tensorboardDirectory/'{int(time.time())}')"
   ]
  },
  {
   "cell_type": "code",
   "execution_count": 30,
   "metadata": {},
   "outputs": [
    {
     "name": "stdout",
     "output_type": "stream",
     "text": [
      "D:\\ActionRecognition\\Train\\1586712560\n",
      "<class 'str'>\n"
     ]
    }
   ],
   "source": [
    "my_str = f\"string_{int(time.time())}\"\n",
    "\n",
    "test_dir      = str(pathlib.Path(r\"D:\\ActionRecognition\\Train\")/f'{int(time.time())}')\n",
    "print(test_dir)\n",
    "print(type(test_dir))"
   ]
  }
 ],
 "metadata": {
  "kernelspec": {
   "display_name": "Python 3",
   "language": "python",
   "name": "python3"
  },
  "language_info": {
   "codemirror_mode": {
    "name": "ipython",
    "version": 3
   },
   "file_extension": ".py",
   "mimetype": "text/x-python",
   "name": "python",
   "nbconvert_exporter": "python",
   "pygments_lexer": "ipython3",
   "version": "3.6.10"
  }
 },
 "nbformat": 4,
 "nbformat_minor": 4
}

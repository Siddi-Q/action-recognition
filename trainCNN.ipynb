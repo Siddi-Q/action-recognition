{
 "cells": [
  {
   "cell_type": "code",
   "execution_count": null,
   "metadata": {},
   "outputs": [],
   "source": [
    "import tensorflow as tf\n",
    "import pathlib\n",
    "import data\n",
    "import time\n",
    "\n",
    "from tensorflow.keras.preprocessing.image import ImageDataGenerator\n",
    "from tensorflow.keras.applications        import InceptionV3\n",
    "from tensorflow.keras.optimizers          import Adam\n",
    "from tensorflow.keras.callbacks           import ModelCheckpoint, TensorBoard\n",
    "from tensorflow.keras.layers              import Dense, GlobalAveragePooling2D\n",
    "from tensorflow.keras.losses              import CategoricalCrossentropy\n",
    "from tensorflow.keras                     import Sequential"
   ]
  },
  {
   "cell_type": "code",
   "execution_count": null,
   "metadata": {},
   "outputs": [],
   "source": [
    "def getImageDataGenerators(train_data_directory, validation_data_directory):\n",
    "    train_image_generator      = ImageDataGenerator(rescale = 1./255)\n",
    "    validation_image_generator = ImageDataGenerator(rescale = 1./255)\n",
    "    \n",
    "    train_data_gen = train_image_generator.flow_from_directory(directory     = str(train_data_directory),\n",
    "                                                               target_size   = (299, 299),\n",
    "                                                               interpolation = \"lanczos\")\n",
    "    \n",
    "    validation_data_gen = validation_image_generator.flow_from_directory(directory    = str(validation_data_directory),\n",
    "                                                                        target_size   = (299, 299),\n",
    "                                                                        interpolation = \"lanczos\")\n",
    "    return train_data_gen, validation_data_gen"
   ]
  },
  {
   "cell_type": "code",
   "execution_count": null,
   "metadata": {},
   "outputs": [],
   "source": [
    "def getModel(numClasses):\n",
    "    base_model = InceptionV3(input_shape = (299, 299, 3),\n",
    "                             include_top = False,\n",
    "                             weights     = 'imagenet')\n",
    "    base_model.trainable = False\n",
    "    global_average_layer = GlobalAveragePooling2D()\n",
    "    prediction_layer     = Dense(numClasses, activation = 'softmax')\n",
    "    \n",
    "    model = Sequential([base_model, global_average_layer, prediction_layer])\n",
    "    \n",
    "    model.compile(optimizer = Adam(lr = 0.0001),\n",
    "                  loss      = CategoricalCrossentropy(from_logits = True),\n",
    "                  metrics   = ['accuracy'])\n",
    "    return model"
   ]
  },
  {
   "cell_type": "code",
   "execution_count": null,
   "metadata": {},
   "outputs": [],
   "source": [
    "def fineTuneModel(model):\n",
    "    base_model = model.layers[0]\n",
    "    base_model.trainable = True\n",
    "    \n",
    "    for layer in base_model.layers[:300]:\n",
    "        layer.trainable = False\n",
    "        \n",
    "    model.compile(optimizer = Adam(lr = 0.00001),\n",
    "                  loss      = CategoricalCrossentropy(from_logits = True),\n",
    "                  metrics   = ['accuracy'])\n",
    "    return model"
   ]
  },
  {
   "cell_type": "code",
   "execution_count": null,
   "metadata": {},
   "outputs": [],
   "source": [
    "def trainModel(model, initial_epoch, epochs, train_data_gen, validation_data_gen, callbacks):\n",
    "    history = model.fit(train_data_gen,\n",
    "                        initial_epoch   = initial_epoch, \n",
    "                        epochs          = epochs, \n",
    "                        validation_data = validation_data_gen,\n",
    "                        callbacks       = callbacks)\n",
    "    return model, history"
   ]
  },
  {
   "cell_type": "code",
   "execution_count": null,
   "metadata": {},
   "outputs": [],
   "source": [
    "def main():\n",
    "    dataObj    = data.Data()\n",
    "    numClasses = dataObj.numClasses\n",
    "    \n",
    "    train_data_directory      = pathlib.Path(r\"D:\\ActionRecognition\\Frames\\Train\")\n",
    "    validation_data_directory = pathlib.Path(r\"D:\\ActionRecognition\\Frames\\Test\")\n",
    "    train_data_gen, validation_data_gen = getImageDataGenerators(train_data_directory, validation_data_directory)\n",
    "    \n",
    "    modelCheckpointDirectory = pathlib.Path(r\"D:\\ActionRecognition\\Callbacks\\CNN\\ModelCheckpoint\")\n",
    "    tensorboardDirectory     = pathlib.Path(r\"D:\\ActionRecognition\\Callbacks\\CNN\\Tensorboard\")\n",
    "    \n",
    "    modelCheckpoint = ModelCheckpoint(filepath       = str(modelCheckpointDirectory/'CNN_{epoch:03d}_{val_loss:.2f}'),\n",
    "                                      save_best_only = True)\n",
    "    tensorboard     = TensorBoard(log_dir = str(tensorboardDirectory/f'{int(time.time())}'))\n",
    "    \n",
    "    model                       = getModel(numClasses)\n",
    "    trained_model, history      = trainModel(model, 0, 1, train_data_gen, validation_data_gen, [])\n",
    "    fine_tuned_model            = fineTuneModel(trained_model)\n",
    "    trained_model, history_fine = trainModel(fine_tuned_model, 1, 2, train_data_gen, validation_data_gen, [modelCheckpoint, tensorboard])"
   ]
  },
  {
   "cell_type": "code",
   "execution_count": null,
   "metadata": {},
   "outputs": [],
   "source": [
    "main()"
   ]
  }
 ],
 "metadata": {
  "kernelspec": {
   "display_name": "Python 3",
   "language": "python",
   "name": "python3"
  },
  "language_info": {
   "codemirror_mode": {
    "name": "ipython",
    "version": 3
   },
   "file_extension": ".py",
   "mimetype": "text/x-python",
   "name": "python",
   "nbconvert_exporter": "python",
   "pygments_lexer": "ipython3",
   "version": "3.6.10"
  }
 },
 "nbformat": 4,
 "nbformat_minor": 4
}

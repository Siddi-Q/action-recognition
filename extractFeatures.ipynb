{
 "cells": [
  {
   "cell_type": "code",
   "execution_count": 1,
   "metadata": {},
   "outputs": [],
   "source": [
    "import tensorflow as tf\n",
    "import numpy as np\n",
    "import pathlib\n",
    "import data\n",
    "\n",
    "from tensorflow.keras.preprocessing import image\n",
    "from tensorflow.keras.models import load_model, Sequential\n",
    "from tensorflow.keras.applications.inception_v3 import preprocess_input\n",
    "from tensorflow.keras.layers              import Dense, LSTM"
   ]
  },
  {
   "cell_type": "code",
   "execution_count": 2,
   "metadata": {},
   "outputs": [],
   "source": [
    "def getPartialModel(savedModelPath):\n",
    "    #run the model again to get features -> save features for RNN input\n",
    "    loadedModel = load_model(savedModelPath)\n",
    "    \n",
    "    indexOfGAPLayer = -1\n",
    "    # Get the index of the last GlobalAveragePooling2D layer starting from the back of the list of layers\n",
    "    for layer in loadedModel.layers[::-1]:\n",
    "        layer_type = str(type(layer))\n",
    "        if layer_type != \"<class 'tensorflow.python.keras.saving.saved_model.load.GlobalAveragePooling2D'>\":\n",
    "            indexOfGAPLayer -= 1\n",
    "        else:\n",
    "            break\n",
    "\n",
    "    if indexOfGAPLayer != -1:\n",
    "        indexAfterGAPLayer = indexOfGAPLayer + 1\n",
    "        partialModel = Sequential(loadedModel.layers[:indexAfterGAPLayer])\n",
    "    else:\n",
    "        # The GlobalAveragePooling2D Layer is the last layer. Thus, we get all the layers (no need to slice the list).\n",
    "        partialModel = Sequential(loadedModel.layers[:])\n",
    "    \n",
    "    return partialModel"
   ]
  },
  {
   "cell_type": "code",
   "execution_count": 3,
   "metadata": {},
   "outputs": [],
   "source": [
    "def extractFeatures(model, framePath):\n",
    "    #resizing each frame to 299,299 and getting features\n",
    "    frame = image.load_img(framePath, \n",
    "                           target_size   = (299,299), \n",
    "                           interpolation = \"lanczos\") # shape: (299, 299, 3): # of dim: 3\n",
    "    frame_arr = image.img_to_array(frame)             # pixel values in range [0,255]\n",
    "    frame_arr = preprocess_input(frame_arr)           # pixel values in range [-1, 1]\n",
    "    frame_arr = np.expand_dims(frame_arr, axis = 0)   # expands shape to: (1, 299, 299, 3): # of dim: 4\n",
    "    features  = model.predict(frame_arr)              # returns numpy array of shape: (1, 2048): # of dim: 2\n",
    "    features  = features[0]                           # shape: (2048, ): # of dim: 1\n",
    "    return features"
   ]
  },
  {
   "cell_type": "code",
   "execution_count": 4,
   "metadata": {},
   "outputs": [],
   "source": [
    "def saveFeatureSequences(model, dataObj):\n",
    "    # replace [:3] to [:] later, [:3] is here only for testing purposes!\n",
    "    for dataRow in dataObj.data[:3]:\n",
    "        sequencePath = pathlib.Path(r\"D:\\ActionRecognition\\Sequences\")/dataRow[0]/dataRow[1]/(dataRow[2] + \"_featureSequence\")\n",
    "        # get the list of paths of the frames of the video referenced in dataRow\n",
    "        #framePath is sorted list of frames from specific video\n",
    "        framePaths = dataObj.getFramesForVideo(dataRow)\n",
    "        \n",
    "        featureSequence = []\n",
    "       \n",
    "        \n",
    "        #get features for every frame\n",
    "        for framePath in framePaths:\n",
    "            features = extractFeatures(model, framePath)\n",
    "            featureSequence.append(features)\n",
    "        return featureSequence"
   ]
  },
  {
   "cell_type": "code",
   "execution_count": 5,
   "metadata": {},
   "outputs": [],
   "source": [
    "def RNNattempt(featureSequence) :\n",
    "    #parameters for LTSM \n",
    "    timesteps = len(featureSequence) #1 because only 1 frame (timestep=number of frames)\n",
    "    features = 2048 #size of each feature list\n",
    "    samples = 1 #because featureSequence = 1 video \n",
    "    \n",
    "    #RNN Model \n",
    "    model = Sequential()\n",
    "    model.add(LSTM(samples, input_shape=(timesteps, features), return_sequences=True))\n",
    "    model.add(Dropout(0.2)) #prevent overfitting\n",
    "    model.add(Dense(1, activation='softmax')) #softmax => outputs as probabilities\n",
    "    model.compile(loss='categorical_crossentropy', optimizer='adam', metrics=['accuracy'])  #crossentropy loss function works with softmax act function\n",
    "     \n",
    "    #reshape to numpy for model\n",
    "    data = np.reshape(featureSequence, (samples, timesteps, features))\n",
    "    print(data.shape)\n",
    "    \n",
    "    #Train Model \n",
    "    model.fit(data, initial_epoch= 0, epochs=1, batch_size=1)\n",
    "    model.summary()\n",
    "    \n",
    "    \n",
    "    "
   ]
  },
  {
   "cell_type": "code",
   "execution_count": 6,
   "metadata": {},
   "outputs": [],
   "source": [
    "def main():\n",
    "    dataObj        = data.Data()\n",
    "    #change checkpoint name/version after running trainCNN\n",
    "    savedModelPath = r\"/home/jupyter/action-recognition/Callbacks/CNN/ModelCheckpoint/CNN_002_0.00\"\n",
    "    partialModel   = getPartialModel(savedModelPath)\n",
    "    saveFeatureSequences(partialModel, dataObj)\n",
    "    \n",
    "    #### Attempt to create RNN layer\n",
    "#     featureSequence = saveFeatureSequences(partialModel, dataObj)\n",
    "#     RNNattempt(featureSequence)"
   ]
  },
  {
   "cell_type": "code",
   "execution_count": 7,
   "metadata": {},
   "outputs": [],
   "source": [
    "main()"
   ]
  },
  {
   "cell_type": "code",
   "execution_count": null,
   "metadata": {},
   "outputs": [],
   "source": []
  },
  {
   "cell_type": "code",
   "execution_count": null,
   "metadata": {},
   "outputs": [],
   "source": []
  }
 ],
 "metadata": {
  "kernelspec": {
   "display_name": "Python 3",
   "language": "python",
   "name": "python3"
  },
  "language_info": {
   "codemirror_mode": {
    "name": "ipython",
    "version": 3
   },
   "file_extension": ".py",
   "mimetype": "text/x-python",
   "name": "python",
   "nbconvert_exporter": "python",
   "pygments_lexer": "ipython3",
   "version": "3.7.6"
  }
 },
 "nbformat": 4,
 "nbformat_minor": 4
}

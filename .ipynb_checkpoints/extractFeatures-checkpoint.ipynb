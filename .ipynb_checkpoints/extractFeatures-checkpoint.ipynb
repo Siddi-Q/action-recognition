{
 "cells": [
  {
   "cell_type": "code",
   "execution_count": null,
   "metadata": {},
   "outputs": [],
   "source": [
    "import tensorflow as tf\n",
    "import numpy as np\n",
    "import pathlib\n",
    "import data\n",
    "\n",
    "from tensorflow.keras.applications.inception_v3 import preprocess_input\n",
    "from tensorflow.keras.preprocessing             import image\n",
    "from tensorflow.keras.models                    import load_model, Sequential\n",
    "from tqdm                                       import tqdm"
   ]
  },
  {
   "cell_type": "code",
   "execution_count": null,
   "metadata": {},
   "outputs": [],
   "source": [
    "def getBestSavedModel(modelCheckpointPath):\n",
    "    dirPaths  = modelCheckpointPath.glob(\"*\")\n",
    "    minLoss   = float('inf')\n",
    "    bestModel = \"\"\n",
    "    for dirPath in dirPaths:\n",
    "        modelname = pathlib.Path(dirPath.name).stem\n",
    "        loss = float(modelname.split(\"_\")[-1])\n",
    "        if loss <= minLoss:\n",
    "            bestModel = dirPath\n",
    "            minLoss   = loss\n",
    "    return str(bestModel)"
   ]
  },
  {
   "cell_type": "code",
   "execution_count": null,
   "metadata": {},
   "outputs": [],
   "source": [
    "def getPartialModel(savedModelPath):\n",
    "    loadedModel = load_model(savedModelPath)\n",
    "    \n",
    "    indexOfGAPLayer = -1\n",
    "    # Get the index of the last GlobalAveragePooling2D layer starting from the back of the list of layers\n",
    "    for layer in loadedModel.layers[::-1]:\n",
    "        layer_type = str(type(layer))\n",
    "        if layer_type != \"<class 'tensorflow.python.keras.layers.pooling.GlobalAveragePooling2D'>\":\n",
    "            indexOfGAPLayer -= 1\n",
    "        else:\n",
    "            break\n",
    "\n",
    "    if indexOfGAPLayer != -1:\n",
    "        indexAfterGAPLayer = indexOfGAPLayer + 1\n",
    "        partialModel = Sequential(loadedModel.layers[:indexAfterGAPLayer])\n",
    "    else:\n",
    "        # The GlobalAveragePooling2D Layer is the last layer. Thus, we get all the layers (no need to slice the list).\n",
    "        partialModel = Sequential(loadedModel.layers[:])\n",
    "    \n",
    "    return partialModel"
   ]
  },
  {
   "cell_type": "code",
   "execution_count": null,
   "metadata": {},
   "outputs": [],
   "source": [
    "def extractFeatures(model, framePath):\n",
    "    frame = image.load_img(framePath, \n",
    "                           target_size   = (299,299), \n",
    "                           interpolation = \"lanczos\") # shape: (299, 299, 3): # of dim: 3\n",
    "    frame_arr = image.img_to_array(frame)             # pixel values in range [0,255]\n",
    "    frame_arr = preprocess_input(frame_arr)           # pixel values in range [-1, 1]\n",
    "    frame_arr = np.expand_dims(frame_arr, axis = 0)   # expands shape to: (1, 299, 299, 3): # of dim: 4\n",
    "    features  = model.predict(frame_arr)              # returns numpy array of shape: (1, 2048): # of dim: 2\n",
    "    features  = features[0]                           # shape: (2048, ): # of dim: 1\n",
    "    return features"
   ]
  },
  {
   "cell_type": "code",
   "execution_count": null,
   "metadata": {},
   "outputs": [],
   "source": [
    "def saveFeatureSequences(model, dataObj):\n",
    "    sequencesPath = pathlib.Path(r\"D:\\ActionRecognition\\Sequences\")\n",
    "    for dataRow in tqdm(dataObj.data[:]):\n",
    "        sequencePath = sequencesPath/dataRow[0]/dataRow[1]/(dataRow[2] + \"_featureSequence\")\n",
    "        # get the list of paths of the frames of the video referenced in dataRow\n",
    "        framePaths = dataObj.getFramesForVideo(dataRow)\n",
    "        \n",
    "        featureSequence = []\n",
    "        for framePath in framePaths:\n",
    "            features = extractFeatures(model, framePath)\n",
    "            featureSequence.append(features)\n",
    "        np.save(sequencePath, featureSequence)"
   ]
  },
  {
   "cell_type": "code",
   "execution_count": null,
   "metadata": {},
   "outputs": [],
   "source": [
    "def main():\n",
    "    dataObj    = data.Data()\n",
    "    numClasses = dataObj.numClasses\n",
    "    modelCheckpointPath = pathlib.Path(r\"D:\\ActionRecognition\\Callbacks\\CNN\")/f'{numClasses}'/'ModelCheckpoint'\n",
    "    savedModelPath = getBestSavedModel(modelCheckpointPath)\n",
    "    partialModel   = getPartialModel(savedModelPath)\n",
    "    saveFeatureSequences(partialModel, dataObj)"
   ]
  },
  {
   "cell_type": "code",
   "execution_count": null,
   "metadata": {},
   "outputs": [],
   "source": [
    "main()"
   ]
  }
 ],
 "metadata": {
  "kernelspec": {
   "display_name": "Python 3",
   "language": "python",
   "name": "python3"
  },
  "language_info": {
   "codemirror_mode": {
    "name": "ipython",
    "version": 3
   },
   "file_extension": ".py",
   "mimetype": "text/x-python",
   "name": "python",
   "nbconvert_exporter": "python",
   "pygments_lexer": "ipython3",
   "version": "3.6.10"
  }
 },
 "nbformat": 4,
 "nbformat_minor": 4
}

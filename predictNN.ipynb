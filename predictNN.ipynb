{
 "cells": [
  {
   "cell_type": "code",
   "execution_count": null,
   "metadata": {},
   "outputs": [],
   "source": [
    "import tensorflow        as tf\n",
    "import numpy             as np\n",
    "\n",
    "import pathlib\n",
    "import random\n",
    "import data\n",
    "import os\n",
    "\n",
    "from tensorflow.keras.applications.inception_v3 import preprocess_input\n",
    "from tensorflow.keras.preprocessing             import image\n",
    "from tensorflow.keras.models                    import load_model"
   ]
  },
  {
   "cell_type": "code",
   "execution_count": null,
   "metadata": {},
   "outputs": [],
   "source": [
    "dataObj    = data.Data()\n",
    "numClasses = dataObj.numClasses"
   ]
  },
  {
   "cell_type": "code",
   "execution_count": null,
   "metadata": {},
   "outputs": [],
   "source": [
    "def getBestSavedModel(modelCheckpointPath):\n",
    "    dirPaths  = modelCheckpointPath.glob(\"*\")\n",
    "    minLoss   = float('inf')\n",
    "    bestModel = \"\"\n",
    "    for dirPath in dirPaths:\n",
    "        modelname = pathlib.Path(dirPath.name).stem\n",
    "        loss = float(modelname.split(\"_\")[-1])\n",
    "        if loss <= minLoss:\n",
    "            bestModel = dirPath\n",
    "            minLoss   = loss\n",
    "    return str(bestModel)"
   ]
  },
  {
   "cell_type": "code",
   "execution_count": null,
   "metadata": {},
   "outputs": [],
   "source": [
    "def predictCNN():\n",
    "    def getPredictions(model, framePath):\n",
    "        frame = image.load_img(framePath, \n",
    "                               target_size   = (299,299), \n",
    "                               interpolation = \"lanczos\")   # shape: (299, 299, 3): # of dim: 3\n",
    "        frame_arr   = image.img_to_array(frame)             # pixel values in range [0,255]\n",
    "        frame_arr   = preprocess_input(frame_arr)           # pixel values in range [-1, 1]\n",
    "        frame_arr   = np.expand_dims(frame_arr, axis = 0)   # expands shape to: (1, 299, 299, 3): # of dim: 4\n",
    "        predictions = model.predict(frame_arr)\n",
    "        predictions = predictions[0]\n",
    "        return predictions\n",
    "    \n",
    "    \n",
    "    dataSetType   = \"Test\"\n",
    "    rootPath      = pathlib.Path(r\"D:\\ActionRecognition\")\n",
    "    dataDirectory = rootPath/'Frames'/dataSetType\n",
    "    framesPaths   = list(dataDirectory.glob('*/*.jpg'))\n",
    "    frameCount    = len(framesPaths)\n",
    "    \n",
    "    modelCheckpointPath = rootPath/'Callbacks\\CNN'/f'{numClasses}'/'ModelCheckpoint'\n",
    "    savedModelPath      = \"\" # you can insert the path to a saved model here\n",
    "    if savedModelPath == \"\":\n",
    "        savedModelPath = getBestSavedModel(modelCheckpointPath)\n",
    "    savedModel = load_model(savedModelPath)\n",
    "    \n",
    "    \n",
    "    numFrames = 5\n",
    "    for i in range(numFrames):\n",
    "        randomIndex     = random.randint(0, frameCount - 1)\n",
    "        randomFramePath = framesPaths[randomIndex]\n",
    "        predictions     = getPredictions(savedModel, randomFramePath)\n",
    "        print(predictions)\n",
    "        \n",
    "predictCNN()"
   ]
  },
  {
   "cell_type": "code",
   "execution_count": null,
   "metadata": {},
   "outputs": [],
   "source": [
    "def predictRNN():\n",
    "    def getPredictions(model, sequencePath):\n",
    "        maxFrameCount = dataObj.getMaxFrameCount()\n",
    "        sequence      = np.load(sequencePath)\n",
    "        sequence      = np.pad(sequence, ((0, maxFrameCount - len(sequence)), (0, 0)), 'edge')\n",
    "        sequence      = np.expand_dims(sequence, axis = 0)\n",
    "        predictions   = model.predict(sequence)\n",
    "        predictions   = predictions[0]\n",
    "        return predictions\n",
    "    \n",
    "    dataSetType    = \"Test\"\n",
    "    rootPath       = pathlib.Path(r\"D:\\ActionRecognition\")\n",
    "    dataDirectory  = rootPath/'Sequences'/dataSetType\n",
    "    sequencesPaths = list(dataDirectory.glob('*/*.npy'))\n",
    "    sequenceCount  = len(sequencesPaths)\n",
    "    \n",
    "    modelCheckpointPath = rootPath/'Callbacks\\RNN'/f'{numClasses}'/'ModelCheckpoint'\n",
    "    savedModelPath      = \"\" # you can insert the path to a saved model here\n",
    "    if savedModelPath == \"\":\n",
    "        savedModelPath = getBestSavedModel(modelCheckpointPath)\n",
    "    savedModel = load_model(savedModelPath)\n",
    "    \n",
    "    numSequences = 5\n",
    "    for i in range(numSequences):\n",
    "        randomIndex        = random.randint(0, sequenceCount - 1)\n",
    "        randomSequencePath = sequencesPaths[randomIndex]\n",
    "        pathStem           = randomSequencePath.stem\n",
    "        partsOfPathStem    = pathStem.split(\"_\")\n",
    "        print(\"Video: \", \"_\".join(randomSequencePath.stem.split(\"_\")[:-1]))\n",
    "        print(\"Actual class: \", partsOfPathStem[1])\n",
    "        predictions        = getPredictions(savedModel, randomSequencePath)\n",
    "        print(predictions)\n",
    "        print()\n",
    "        \n",
    "predictRNN()"
   ]
  }
 ],
 "metadata": {
  "kernelspec": {
   "display_name": "Python 3",
   "language": "python",
   "name": "python3"
  },
  "language_info": {
   "codemirror_mode": {
    "name": "ipython",
    "version": 3
   },
   "file_extension": ".py",
   "mimetype": "text/x-python",
   "name": "python",
   "nbconvert_exporter": "python",
   "pygments_lexer": "ipython3",
   "version": "3.6.10"
  }
 },
 "nbformat": 4,
 "nbformat_minor": 4
}
